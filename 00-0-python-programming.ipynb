{
 "cells": [
  {
   "cell_type": "code",
   "execution_count": 2,
   "metadata": {},
   "outputs": [
    {
     "name": "stdout",
     "output_type": "stream",
     "text": [
      "Someone is a 123656789 with size 456.15\n"
     ]
    }
   ],
   "source": [
    "# Python Variables\n",
    "phone_maker = \"Someone\"\n",
    "phone_number = \"123656789\"\n",
    "area_size = 456.15155\n",
    "\n",
    "print(f\"{phone_maker} is a {phone_number} with size {area_size:.5}\")"
   ]
  },
  {
   "cell_type": "code",
   "execution_count": null,
   "id": "80fea767",
   "metadata": {},
   "outputs": [],
   "source": [
    "data_list = [45454, 4545, 7878, 656, 484]\n",
    "str_list = [\"red\", \"black\", \"blue\", \"yellow\", \"green\", \"purple\"]\n",
    "\n",
    "# slide: list[from:to:step]"
   ]
  },
  {
   "cell_type": "code",
   "execution_count": 3,
   "id": "a79371aa",
   "metadata": {},
   "outputs": [
    {
     "name": "stdout",
     "output_type": "stream",
     "text": [
      "ami-069eb5ebcbc6b0f91\n",
      "{'ImageId': 'ami-069eb5ebcbc6b0f91', 'InstanceId': 'i-0c5c2bb0a41ef1b29', 'InstanceType': 'm5.large', 'ExtraInfo': 'This is extra info'}\n",
      "{'ImageId': 'ami-069eb5ebcbc6b0f91', 'InstanceId': 'i-0c5c2bb0a41ef1b29', 'ExtraInfo': 'This is extra info'}\n",
      "True\n"
     ]
    }
   ],
   "source": [
    "info = {\n",
    "    'ImageId': 'ami-069eb5ebcbc6b0f91',\n",
    "    'InstanceId': 'i-0c5c2bb0a41ef1b29',\n",
    "    'InstanceType': 'm5.large'\n",
    "}\n",
    "\n",
    "info['ExtraInfo'] = 'This is extra info'\n",
    "print(info['ImageId'])\n",
    "print(info)\n",
    "\n",
    "\n",
    "del info['InstanceType']\n",
    "print(info)\n",
    "\n",
    "print('ExtraInfo' in info) # True"
   ]
  },
  {
   "cell_type": "code",
   "execution_count": null,
   "id": "02dc1623",
   "metadata": {},
   "outputs": [],
   "source": []
  }
 ],
 "metadata": {
  "kernelspec": {
   "display_name": "pDL",
   "language": "python",
   "name": "python3"
  },
  "language_info": {
   "codemirror_mode": {
    "name": "ipython",
    "version": 3
   },
   "file_extension": ".py",
   "mimetype": "text/x-python",
   "name": "python",
   "nbconvert_exporter": "python",
   "pygments_lexer": "ipython3",
   "version": "3.9.6"
  }
 },
 "nbformat": 4,
 "nbformat_minor": 5
}
