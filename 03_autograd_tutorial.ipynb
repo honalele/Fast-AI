{
  "cells": [
    {
      "cell_type": "code",
      "execution_count": 1,
      "id": "74bb1b56",
      "metadata": {
        "id": "74bb1b56"
      },
      "outputs": [],
      "source": [
        "# Load libraries\n",
        "import torch"
      ]
    },
    {
      "cell_type": "markdown",
      "id": "8639e4e0",
      "metadata": {
        "id": "8639e4e0"
      },
      "source": [
        "Create a tensor:"
      ]
    },
    {
      "cell_type": "code",
      "execution_count": 2,
      "id": "2934821b",
      "metadata": {
        "colab": {
          "base_uri": "https://localhost:8080/"
        },
        "id": "2934821b",
        "outputId": "6096942e-293c-49e3-f5ab-736053d12539"
      },
      "outputs": [
        {
          "output_type": "stream",
          "name": "stdout",
          "text": [
            "tensor([[1., 2.],\n",
            "        [3., 4.]], requires_grad=True)\n"
          ]
        }
      ],
      "source": [
        "# Create a 2x2 tensor with gradient-accumulation capabilities\n",
        "x = torch.tensor([[1,2], [3, 4]],\n",
        "                 requires_grad=True,\n",
        "                 dtype=torch.float32)\n",
        "print(x)"
      ]
    },
    {
      "cell_type": "code",
      "execution_count": 3,
      "id": "fd01d0dc",
      "metadata": {
        "colab": {
          "base_uri": "https://localhost:8080/"
        },
        "id": "fd01d0dc",
        "outputId": "115fcbd2-24e3-42f7-9307-3a7f9da225e2"
      },
      "outputs": [
        {
          "output_type": "stream",
          "name": "stdout",
          "text": [
            "tensor([[-1.,  0.],\n",
            "        [ 1.,  2.]], grad_fn=<SubBackward0>)\n"
          ]
        }
      ],
      "source": [
        "# Deduct 2 from all elements\n",
        "y = x - 2\n",
        "print(y)"
      ]
    },
    {
      "cell_type": "markdown",
      "id": "057ec377",
      "metadata": {
        "id": "057ec377"
      },
      "source": [
        "`y` was created as a result of an operation, so it has a `grad_fn`."
      ]
    },
    {
      "cell_type": "code",
      "execution_count": 4,
      "id": "97de12e1",
      "metadata": {
        "colab": {
          "base_uri": "https://localhost:8080/"
        },
        "id": "97de12e1",
        "outputId": "919db3df-766e-451a-acc1-224180f5ec83"
      },
      "outputs": [
        {
          "output_type": "stream",
          "name": "stdout",
          "text": [
            "<SubBackward0 object at 0x7f750794eb90>\n"
          ]
        }
      ],
      "source": [
        "print(y.grad_fn)"
      ]
    },
    {
      "cell_type": "code",
      "execution_count": 5,
      "id": "182ddc5c",
      "metadata": {
        "colab": {
          "base_uri": "https://localhost:8080/"
        },
        "id": "182ddc5c",
        "outputId": "c7a74765-bb8c-437e-9a76-4a3a9a5581db"
      },
      "outputs": [
        {
          "output_type": "stream",
          "name": "stdout",
          "text": [
            "None\n"
          ]
        }
      ],
      "source": [
        "# What's happening here?\n",
        "print(x.grad_fn)"
      ]
    },
    {
      "cell_type": "code",
      "execution_count": 6,
      "id": "4ba4dd53",
      "metadata": {
        "colab": {
          "base_uri": "https://localhost:8080/"
        },
        "id": "4ba4dd53",
        "outputId": "a356e043-cdf1-4cc4-e3d8-d725dd836757"
      },
      "outputs": [
        {
          "output_type": "execute_result",
          "data": {
            "text/plain": [
              "<SubBackward0 at 0x7f750794e9b0>"
            ]
          },
          "metadata": {},
          "execution_count": 6
        }
      ],
      "source": [
        "# Let's dig further...\n",
        "y.grad_fn"
      ]
    },
    {
      "cell_type": "code",
      "execution_count": 7,
      "id": "b9c019f2",
      "metadata": {
        "colab": {
          "base_uri": "https://localhost:8080/"
        },
        "id": "b9c019f2",
        "outputId": "482face4-6740-471c-d0b1-2a6d4a625ab4"
      },
      "outputs": [
        {
          "output_type": "execute_result",
          "data": {
            "text/plain": [
              "<AccumulateGrad at 0x7f750794df60>"
            ]
          },
          "metadata": {},
          "execution_count": 7
        }
      ],
      "source": [
        "y.grad_fn.next_functions[0][0]"
      ]
    },
    {
      "cell_type": "code",
      "execution_count": 8,
      "id": "f980bfc8",
      "metadata": {
        "colab": {
          "base_uri": "https://localhost:8080/"
        },
        "id": "f980bfc8",
        "outputId": "548addb4-ae43-4241-ffe1-3350ad6575f8"
      },
      "outputs": [
        {
          "output_type": "execute_result",
          "data": {
            "text/plain": [
              "tensor([[1., 2.],\n",
              "        [3., 4.]], requires_grad=True)"
            ]
          },
          "metadata": {},
          "execution_count": 8
        }
      ],
      "source": [
        "y.grad_fn.next_functions[0][0].variable"
      ]
    },
    {
      "cell_type": "code",
      "execution_count": 9,
      "id": "1c6930e7",
      "metadata": {
        "colab": {
          "base_uri": "https://localhost:8080/"
        },
        "id": "1c6930e7",
        "outputId": "a8fd85ff-584f-4ef6-b77d-a873dd84cd7b"
      },
      "outputs": [
        {
          "output_type": "execute_result",
          "data": {
            "text/plain": [
              "tensor([[-1.,  0.],\n",
              "        [ 1.,  2.]], grad_fn=<SubBackward0>)"
            ]
          },
          "metadata": {},
          "execution_count": 9
        }
      ],
      "source": [
        "y"
      ]
    },
    {
      "cell_type": "code",
      "execution_count": 19,
      "id": "f4fb5922",
      "metadata": {
        "colab": {
          "base_uri": "https://localhost:8080/"
        },
        "id": "f4fb5922",
        "outputId": "1119a803-2ac2-4875-c98f-22ca742d7395"
      },
      "outputs": [
        {
          "output_type": "stream",
          "name": "stdout",
          "text": [
            "tensor([[ 3.,  0.],\n",
            "        [ 3., 12.]], grad_fn=<MulBackward0>)\n",
            "tensor(4.5000, grad_fn=<MeanBackward0>)\n"
          ]
        }
      ],
      "source": [
        "# Do more operations on y\n",
        "z = y * y * 3\n",
        "a = z.mean() # average\n",
        "\n",
        "print(z)\n",
        "print(a)"
      ]
    },
    {
      "cell_type": "code",
      "source": [
        "%pip install -U git+https://github.com/szagoruyko/pytorchviz.git@master\n",
        "from torchviz import make_dot, make_dot_from_trace"
      ],
      "metadata": {
        "colab": {
          "base_uri": "https://localhost:8080/"
        },
        "id": "zZqnmPHok3Xw",
        "outputId": "984409b7-90fc-4d41-ff6b-5f68a2813f71"
      },
      "id": "zZqnmPHok3Xw",
      "execution_count": 12,
      "outputs": [
        {
          "output_type": "stream",
          "name": "stdout",
          "text": [
            "Looking in indexes: https://pypi.org/simple, https://us-python.pkg.dev/colab-wheels/public/simple/\n",
            "Collecting git+https://github.com/szagoruyko/pytorchviz.git@master\n",
            "  Cloning https://github.com/szagoruyko/pytorchviz.git (to revision master) to /tmp/pip-req-build-matrgqr7\n",
            "  Running command git clone --filter=blob:none --quiet https://github.com/szagoruyko/pytorchviz.git /tmp/pip-req-build-matrgqr7\n",
            "  Resolved https://github.com/szagoruyko/pytorchviz.git to commit 0adcd83af8aa7ab36d6afd139cabbd9df598edb7\n",
            "  Preparing metadata (setup.py) ... \u001b[?25l\u001b[?25hdone\n",
            "Requirement already satisfied: torch in /usr/local/lib/python3.10/dist-packages (from torchviz==0.0.2) (2.0.1+cu118)\n",
            "Requirement already satisfied: graphviz in /usr/local/lib/python3.10/dist-packages (from torchviz==0.0.2) (0.20.1)\n",
            "Requirement already satisfied: filelock in /usr/local/lib/python3.10/dist-packages (from torch->torchviz==0.0.2) (3.12.0)\n",
            "Requirement already satisfied: typing-extensions in /usr/local/lib/python3.10/dist-packages (from torch->torchviz==0.0.2) (4.5.0)\n",
            "Requirement already satisfied: sympy in /usr/local/lib/python3.10/dist-packages (from torch->torchviz==0.0.2) (1.11.1)\n",
            "Requirement already satisfied: networkx in /usr/local/lib/python3.10/dist-packages (from torch->torchviz==0.0.2) (3.1)\n",
            "Requirement already satisfied: jinja2 in /usr/local/lib/python3.10/dist-packages (from torch->torchviz==0.0.2) (3.1.2)\n",
            "Requirement already satisfied: triton==2.0.0 in /usr/local/lib/python3.10/dist-packages (from torch->torchviz==0.0.2) (2.0.0)\n",
            "Requirement already satisfied: cmake in /usr/local/lib/python3.10/dist-packages (from triton==2.0.0->torch->torchviz==0.0.2) (3.25.2)\n",
            "Requirement already satisfied: lit in /usr/local/lib/python3.10/dist-packages (from triton==2.0.0->torch->torchviz==0.0.2) (16.0.5)\n",
            "Requirement already satisfied: MarkupSafe>=2.0 in /usr/local/lib/python3.10/dist-packages (from jinja2->torch->torchviz==0.0.2) (2.1.2)\n",
            "Requirement already satisfied: mpmath>=0.19 in /usr/local/lib/python3.10/dist-packages (from sympy->torch->torchviz==0.0.2) (1.3.0)\n",
            "Building wheels for collected packages: torchviz\n",
            "  Building wheel for torchviz (setup.py) ... \u001b[?25l\u001b[?25hdone\n",
            "  Created wheel for torchviz: filename=torchviz-0.0.2-py3-none-any.whl size=4972 sha256=8e2cb9e7e908c3ea7f0fa05bb016cb420c3a587caae8b5771dba5370c9eef736\n",
            "  Stored in directory: /tmp/pip-ephem-wheel-cache-em59l0dj/wheels/97/11/17/d09e895f9883bd50923ce86b249a31790356a1b88b280983d8\n",
            "Successfully built torchviz\n",
            "Installing collected packages: torchviz\n",
            "Successfully installed torchviz-0.0.2\n"
          ]
        }
      ]
    },
    {
      "cell_type": "code",
      "execution_count": 13,
      "id": "b2dc8c3f",
      "metadata": {
        "id": "b2dc8c3f"
      },
      "outputs": [],
      "source": [
        "# Let's visualise the computational graph !\n",
        "from torchviz import make_dot"
      ]
    },
    {
      "cell_type": "code",
      "execution_count": 14,
      "id": "51ab0b8e",
      "metadata": {
        "colab": {
          "base_uri": "https://localhost:8080/",
          "height": 528
        },
        "id": "51ab0b8e",
        "outputId": "cd68698b-57d6-4b4d-b24a-ba8b5fac5d29"
      },
      "outputs": [
        {
          "output_type": "execute_result",
          "data": {
            "image/svg+xml": "<?xml version=\"1.0\" encoding=\"UTF-8\" standalone=\"no\"?>\n<!DOCTYPE svg PUBLIC \"-//W3C//DTD SVG 1.1//EN\"\n \"http://www.w3.org/Graphics/SVG/1.1/DTD/svg11.dtd\">\n<!-- Generated by graphviz version 2.43.0 (0)\n -->\n<!-- Title: %3 Pages: 1 -->\n<svg width=\"109pt\" height=\"381pt\"\n viewBox=\"0.00 0.00 109.00 381.00\" xmlns=\"http://www.w3.org/2000/svg\" xmlns:xlink=\"http://www.w3.org/1999/xlink\">\n<g id=\"graph0\" class=\"graph\" transform=\"scale(1 1) rotate(0) translate(4 377)\">\n<title>%3</title>\n<polygon fill=\"white\" stroke=\"transparent\" points=\"-4,4 -4,-377 105,-377 105,4 -4,4\"/>\n<!-- 140140615273984 -->\n<g id=\"node1\" class=\"node\">\n<title>140140615273984</title>\n<polygon fill=\"#caff70\" stroke=\"black\" points=\"77.5,-31 23.5,-31 23.5,0 77.5,0 77.5,-31\"/>\n<text text-anchor=\"middle\" x=\"50.5\" y=\"-7\" font-family=\"monospace\" font-size=\"10.00\"> ()</text>\n</g>\n<!-- 140143892128400 -->\n<g id=\"node2\" class=\"node\">\n<title>140143892128400</title>\n<polygon fill=\"lightgrey\" stroke=\"black\" points=\"98,-86 3,-86 3,-67 98,-67 98,-86\"/>\n<text text-anchor=\"middle\" x=\"50.5\" y=\"-74\" font-family=\"monospace\" font-size=\"10.00\">MeanBackward0</text>\n</g>\n<!-- 140143892128400&#45;&gt;140140615273984 -->\n<g id=\"edge7\" class=\"edge\">\n<title>140143892128400&#45;&gt;140140615273984</title>\n<path fill=\"none\" stroke=\"black\" d=\"M50.5,-66.79C50.5,-60.07 50.5,-50.4 50.5,-41.34\"/>\n<polygon fill=\"black\" stroke=\"black\" points=\"54,-41.19 50.5,-31.19 47,-41.19 54,-41.19\"/>\n</g>\n<!-- 140143892128064 -->\n<g id=\"node3\" class=\"node\">\n<title>140143892128064</title>\n<polygon fill=\"lightgrey\" stroke=\"black\" points=\"95,-141 6,-141 6,-122 95,-122 95,-141\"/>\n<text text-anchor=\"middle\" x=\"50.5\" y=\"-129\" font-family=\"monospace\" font-size=\"10.00\">MulBackward0</text>\n</g>\n<!-- 140143892128064&#45;&gt;140143892128400 -->\n<g id=\"edge1\" class=\"edge\">\n<title>140143892128064&#45;&gt;140143892128400</title>\n<path fill=\"none\" stroke=\"black\" d=\"M50.5,-121.75C50.5,-114.8 50.5,-104.85 50.5,-96.13\"/>\n<polygon fill=\"black\" stroke=\"black\" points=\"54,-96.09 50.5,-86.09 47,-96.09 54,-96.09\"/>\n</g>\n<!-- 140143892128208 -->\n<g id=\"node4\" class=\"node\">\n<title>140143892128208</title>\n<polygon fill=\"lightgrey\" stroke=\"black\" points=\"95,-196 6,-196 6,-177 95,-177 95,-196\"/>\n<text text-anchor=\"middle\" x=\"50.5\" y=\"-184\" font-family=\"monospace\" font-size=\"10.00\">MulBackward0</text>\n</g>\n<!-- 140143892128208&#45;&gt;140143892128064 -->\n<g id=\"edge2\" class=\"edge\">\n<title>140143892128208&#45;&gt;140143892128064</title>\n<path fill=\"none\" stroke=\"black\" d=\"M50.5,-176.75C50.5,-169.8 50.5,-159.85 50.5,-151.13\"/>\n<polygon fill=\"black\" stroke=\"black\" points=\"54,-151.09 50.5,-141.09 47,-151.09 54,-151.09\"/>\n</g>\n<!-- 140140615100848 -->\n<g id=\"node5\" class=\"node\">\n<title>140140615100848</title>\n<polygon fill=\"lightgrey\" stroke=\"black\" points=\"95,-251 6,-251 6,-232 95,-232 95,-251\"/>\n<text text-anchor=\"middle\" x=\"50.5\" y=\"-239\" font-family=\"monospace\" font-size=\"10.00\">SubBackward0</text>\n</g>\n<!-- 140140615100848&#45;&gt;140143892128208 -->\n<g id=\"edge3\" class=\"edge\">\n<title>140140615100848&#45;&gt;140143892128208</title>\n<path fill=\"none\" stroke=\"black\" d=\"M45.33,-231.75C43.84,-224.8 43.4,-214.85 44.02,-206.13\"/>\n<polygon fill=\"black\" stroke=\"black\" points=\"47.51,-206.47 45.37,-196.09 40.57,-205.53 47.51,-206.47\"/>\n</g>\n<!-- 140140615100848&#45;&gt;140143892128208 -->\n<g id=\"edge6\" class=\"edge\">\n<title>140140615100848&#45;&gt;140143892128208</title>\n<path fill=\"none\" stroke=\"black\" d=\"M55.67,-231.75C57.16,-224.8 57.6,-214.85 56.98,-206.13\"/>\n<polygon fill=\"black\" stroke=\"black\" points=\"60.43,-205.53 55.63,-196.09 53.49,-206.47 60.43,-205.53\"/>\n</g>\n<!-- 140140615098208 -->\n<g id=\"node6\" class=\"node\">\n<title>140140615098208</title>\n<polygon fill=\"lightgrey\" stroke=\"black\" points=\"101,-306 0,-306 0,-287 101,-287 101,-306\"/>\n<text text-anchor=\"middle\" x=\"50.5\" y=\"-294\" font-family=\"monospace\" font-size=\"10.00\">AccumulateGrad</text>\n</g>\n<!-- 140140615098208&#45;&gt;140140615100848 -->\n<g id=\"edge4\" class=\"edge\">\n<title>140140615098208&#45;&gt;140140615100848</title>\n<path fill=\"none\" stroke=\"black\" d=\"M50.5,-286.75C50.5,-279.8 50.5,-269.85 50.5,-261.13\"/>\n<polygon fill=\"black\" stroke=\"black\" points=\"54,-261.09 50.5,-251.09 47,-261.09 54,-261.09\"/>\n</g>\n<!-- 140143886456432 -->\n<g id=\"node7\" class=\"node\">\n<title>140143886456432</title>\n<polygon fill=\"lightblue\" stroke=\"black\" points=\"80,-373 21,-373 21,-342 80,-342 80,-373\"/>\n<text text-anchor=\"middle\" x=\"50.5\" y=\"-349\" font-family=\"monospace\" font-size=\"10.00\"> (2, 2)</text>\n</g>\n<!-- 140143886456432&#45;&gt;140140615098208 -->\n<g id=\"edge5\" class=\"edge\">\n<title>140143886456432&#45;&gt;140140615098208</title>\n<path fill=\"none\" stroke=\"black\" d=\"M50.5,-341.92C50.5,-334.22 50.5,-324.69 50.5,-316.43\"/>\n<polygon fill=\"black\" stroke=\"black\" points=\"54,-316.25 50.5,-306.25 47,-316.25 54,-316.25\"/>\n</g>\n</g>\n</svg>\n",
            "text/plain": [
              "<graphviz.graphs.Digraph at 0x7f75cae86230>"
            ]
          },
          "metadata": {},
          "execution_count": 14
        }
      ],
      "source": [
        "make_dot(a)"
      ]
    },
    {
      "cell_type": "markdown",
      "id": "d68817df",
      "metadata": {
        "id": "d68817df"
      },
      "source": [
        "## Gradients\n",
        "\n",
        "Let's backprop now out.backward() is equivalent to doing `out.backward(torch.tensor([1.0]))`"
      ]
    },
    {
      "cell_type": "code",
      "execution_count": 20,
      "id": "be18dc71",
      "metadata": {
        "id": "be18dc71"
      },
      "outputs": [],
      "source": [
        "# Backprop\n",
        "a.backward()"
      ]
    },
    {
      "cell_type": "markdown",
      "id": "3fea4003",
      "metadata": {
        "id": "3fea4003"
      },
      "source": [
        "Print gradients $\\frac{da}{dx}$"
      ]
    },
    {
      "cell_type": "markdown",
      "id": "7500ef15",
      "metadata": {
        "id": "7500ef15"
      },
      "source": []
    },
    {
      "cell_type": "code",
      "execution_count": 22,
      "id": "eedff522",
      "metadata": {
        "colab": {
          "base_uri": "https://localhost:8080/"
        },
        "id": "eedff522",
        "outputId": "9894430e-6cd5-45f9-fe73-1946e74c7cee"
      },
      "outputs": [
        {
          "output_type": "stream",
          "name": "stdout",
          "text": [
            "None\n"
          ]
        }
      ],
      "source": [
        "# Compute it by hand BEFORE executing this\n",
        "print(x.grad)"
      ]
    },
    {
      "cell_type": "code",
      "execution_count": 23,
      "id": "acf2a0c0",
      "metadata": {
        "colab": {
          "base_uri": "https://localhost:8080/"
        },
        "id": "acf2a0c0",
        "outputId": "8f873e30-a264-465a-8ba2-015681c1235a"
      },
      "outputs": [
        {
          "output_type": "execute_result",
          "data": {
            "text/plain": [
              "tensor([ 0.3206, -0.1416,  1.7170], requires_grad=True)"
            ]
          },
          "metadata": {},
          "execution_count": 23
        }
      ],
      "source": [
        "# Dynamic graphs!\n",
        "\n",
        "x = torch.randn(3, requires_grad=True)\n",
        "x"
      ]
    },
    {
      "cell_type": "code",
      "execution_count": 24,
      "id": "92f4bc55",
      "metadata": {
        "colab": {
          "base_uri": "https://localhost:8080/"
        },
        "id": "92f4bc55",
        "outputId": "e71a6dec-c359-4e85-cf9c-8c46d829cd00"
      },
      "outputs": [
        {
          "output_type": "stream",
          "name": "stdout",
          "text": [
            "tensor(1794.4907)\n",
            "tensor([ 328.2717, -145.0217, 1758.2386], grad_fn=<MulBackward0>)\n"
          ]
        }
      ],
      "source": [
        "y = x * 2\n",
        "i = 0\n",
        "while y.data.norm() < 1000:\n",
        "    y = y * 2\n",
        "    i += 1\n",
        "print(y.data.norm())\n",
        "print(y)"
      ]
    },
    {
      "cell_type": "code",
      "execution_count": 25,
      "id": "8ccc0a66",
      "metadata": {
        "colab": {
          "base_uri": "https://localhost:8080/"
        },
        "id": "8ccc0a66",
        "outputId": "42e57cc0-298f-49a8-995b-d48e686e5527"
      },
      "outputs": [
        {
          "output_type": "stream",
          "name": "stdout",
          "text": [
            "tensor([1.0240e+02, 1.0240e+03, 1.0240e-01])\n"
          ]
        }
      ],
      "source": [
        "# If we don't run backward on a scalar we need to specify the grad_output\n",
        "gradients = torch.FloatTensor([0.1, 1.0, 0.0001])\n",
        "y.backward(gradients)\n",
        "\n",
        "print(x.grad)"
      ]
    },
    {
      "cell_type": "code",
      "execution_count": null,
      "id": "d62ad760",
      "metadata": {
        "id": "d62ad760",
        "outputId": "83e486f5-7911-4179-9085-ef44cb4a0af7"
      },
      "outputs": [
        {
          "name": "stdout",
          "output_type": "stream",
          "text": [
            "9\n"
          ]
        }
      ],
      "source": [
        "# BEFORE executing this, can you tell what would you expect it to print?\n",
        "print(i)"
      ]
    },
    {
      "cell_type": "markdown",
      "id": "f99155f1",
      "metadata": {
        "id": "f99155f1"
      },
      "source": [
        "## Inference"
      ]
    },
    {
      "cell_type": "code",
      "execution_count": null,
      "id": "0b0f7de3",
      "metadata": {
        "id": "0b0f7de3"
      },
      "outputs": [],
      "source": [
        "# This variable decides the tensor's range below\n",
        "n = 3"
      ]
    },
    {
      "cell_type": "code",
      "execution_count": null,
      "id": "5b73fa22",
      "metadata": {
        "id": "5b73fa22",
        "outputId": "d9c45ab7-1c7f-4e82-aa00-519c343145e2"
      },
      "outputs": [
        {
          "name": "stdout",
          "output_type": "stream",
          "text": [
            "x:tensor([1., 2., 3.], requires_grad=True)\n",
            "w:tensor([1., 1., 1.], requires_grad=True)\n"
          ]
        }
      ],
      "source": [
        "# Both x and w that allows gradient accumulation\n",
        "x = torch.arange(1., n+1, requires_grad=True)\n",
        "w =torch.ones(n, requires_grad=True)\n",
        "\n",
        "print(f\"x:{x}\")\n",
        "print(f\"w:{w}\")"
      ]
    },
    {
      "cell_type": "code",
      "execution_count": null,
      "id": "3aa0c623",
      "metadata": {
        "id": "3aa0c623",
        "outputId": "2d874bcf-622a-42ba-91db-eb7205fbd9e0"
      },
      "outputs": [
        {
          "name": "stdout",
          "output_type": "stream",
          "text": [
            "tensor([1., 1., 1.])\n",
            "tensor([1., 2., 3.])\n"
          ]
        }
      ],
      "source": [
        "z = w@x\n",
        "z.backward()\n",
        "print(x.grad, w.grad, sep='\\n')"
      ]
    },
    {
      "cell_type": "code",
      "execution_count": null,
      "id": "1be26a38",
      "metadata": {
        "id": "1be26a38",
        "outputId": "67f1f12f-df6e-4656-c4a4-df2dfcc2e47b"
      },
      "outputs": [
        {
          "name": "stdout",
          "output_type": "stream",
          "text": [
            "None\n",
            "tensor([1., 2., 3.])\n"
          ]
        }
      ],
      "source": [
        "# Only w that allows gradient accumulation\n",
        "x = torch.arange(1., n+1)\n",
        "w = torch.ones(n, requires_grad=True)\n",
        "z = w@x\n",
        "z.backward()\n",
        "print(x.grad, w.grad, sep='\\n')"
      ]
    },
    {
      "cell_type": "code",
      "execution_count": null,
      "id": "524f1e10",
      "metadata": {
        "id": "524f1e10",
        "outputId": "cb671793-3c0a-495c-e04f-5089263b6fb8"
      },
      "outputs": [
        {
          "name": "stdout",
          "output_type": "stream",
          "text": [
            "RuntimeError!!!>:[\n",
            "element 0 of tensors does not require grad and does not have a grad_fn\n"
          ]
        }
      ],
      "source": [
        "x = torch.arange(1., n+1)\n",
        "w = torch.ones(n, requires_grad=True)\n",
        "\n",
        "# Regardless of what you do in this contect, all torch tensors will not have gradient accumulation\n",
        "with torch.no_grad():\n",
        "    z = w@x\n",
        "    \n",
        "try:\n",
        "    z.backward() # PyTorch will throw an error here, since z has no grad accum.add()\n",
        "except RuntimeError as e:\n",
        "    print('RuntimeError!!!>:[')\n",
        "    print(e)"
      ]
    },
    {
      "cell_type": "code",
      "execution_count": null,
      "id": "64828c5a",
      "metadata": {
        "id": "64828c5a"
      },
      "outputs": [],
      "source": []
    }
  ],
  "metadata": {
    "kernelspec": {
      "display_name": "pDL",
      "language": "python",
      "name": "python3"
    },
    "language_info": {
      "codemirror_mode": {
        "name": "ipython",
        "version": 3
      },
      "file_extension": ".py",
      "mimetype": "text/x-python",
      "name": "python",
      "nbconvert_exporter": "python",
      "pygments_lexer": "ipython3",
      "version": "3.9.16"
    },
    "toc": {
      "base_numbering": 1,
      "nav_menu": {},
      "number_sections": true,
      "sideBar": true,
      "skip_h1_title": false,
      "title_cell": "Table of Contents",
      "title_sidebar": "Contents",
      "toc_cell": false,
      "toc_position": {},
      "toc_section_display": true,
      "toc_window_display": false
    },
    "colab": {
      "provenance": [],
      "gpuType": "T4"
    },
    "accelerator": "GPU",
    "gpuClass": "standard"
  },
  "nbformat": 4,
  "nbformat_minor": 5
}