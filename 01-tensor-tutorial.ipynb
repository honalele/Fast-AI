{
 "cells": [
  {
   "attachments": {},
   "cell_type": "markdown",
   "id": "52f422cf",
   "metadata": {},
   "source": [
    "# What is PyTorch\n",
    "It's a Python based scientific computing package targetd at two sets of audiences:\n",
    "\n",
    "- Tensorial library that uses the **power of GPUs**\n",
    "- A deep learning research platform that provides maximum flexibility and speed"
   ]
  },
  {
   "attachments": {},
   "cell_type": "markdown",
   "id": "90109a38",
   "metadata": {},
   "source": [
    "## Import the library"
   ]
  },
  {
   "cell_type": "code",
   "execution_count": null,
   "id": "77120696",
   "metadata": {},
   "outputs": [],
   "source": [
    "import torch"
   ]
  },
  {
   "attachments": {},
   "cell_type": "markdown",
   "id": "06e142c3",
   "metadata": {},
   "source": [
    "Getting help in Jupyter"
   ]
  },
  {
   "cell_type": "code",
   "execution_count": null,
   "id": "70a99649",
   "metadata": {},
   "outputs": [],
   "source": [
    "torch.sqrt #<Tab>"
   ]
  },
  {
   "cell_type": "code",
   "execution_count": null,
   "id": "72b6018b",
   "metadata": {},
   "outputs": [],
   "source": [
    "# Press <?> to get our of help\n",
    "torch.Tensor?"
   ]
  },
  {
   "cell_type": "code",
   "execution_count": null,
   "id": "cab74568",
   "metadata": {},
   "outputs": [],
   "source": [
    "torch.nn.Module() # <Shift>+<Tab>"
   ]
  },
  {
   "cell_type": "code",
   "execution_count": null,
   "id": "8a1222e1",
   "metadata": {},
   "outputs": [],
   "source": [
    "# Annotate your functions / classes!\n",
    "torch.nn.Module??"
   ]
  },
  {
   "attachments": {},
   "cell_type": "markdown",
   "id": "c1ea3cb0",
   "metadata": {},
   "source": [
    "## Dropping to Bash: magic!"
   ]
  },
  {
   "cell_type": "code",
   "execution_count": null,
   "id": "4093f18b",
   "metadata": {},
   "outputs": [],
   "source": [
    "!ls -lh"
   ]
  },
  {
   "cell_type": "code",
   "execution_count": null,
   "id": "c74eec47",
   "metadata": {},
   "outputs": [],
   "source": [
    "%%bash\n",
    "# List all the files but with cleaner outputs for readability\n",
    "for f in $(ls *.*); do \n",
    "   echo $(wc -l $f)\n",
    "done"
   ]
  },
  {
   "attachments": {},
   "cell_type": "markdown",
   "id": "a1f25320",
   "metadata": {},
   "source": [
    "## Getting the general help"
   ]
  },
  {
   "cell_type": "code",
   "execution_count": null,
   "id": "89089216",
   "metadata": {},
   "outputs": [],
   "source": [
    "# Getting the general help\n",
    "%magic"
   ]
  },
  {
   "attachments": {},
   "cell_type": "markdown",
   "id": "324c2ccb",
   "metadata": {},
   "source": [
    "## Python native data types\n",
    "\n",
    "Pytho has many native datatypes. Here are the important ones:\n",
    "\n",
    "- **Booleans** are either `True` or `False`\n",
    "- **Numbers** can be integers (1 and 2), float (1.1 and 2.2), fractions (1/2 and 2/3), or even complex numbers\n",
    "- **String** are sequence of Unicod characters, e.g. an html document.\n",
    "- **Lists** are ordered sequences of values.\n",
    "- **Tuples** are ordered, immutable sequences of values.\n",
    "- **Sets** are unordered basg of values.\n",
    "- **Dictionaries** are unorderd pair of <key, values>\n",
    "\n",
    "\n",
    "See [here](https://diveintopython3.net/native-datatypes.html) for a complete overview of datatypes.\n",
    "\n",
    "### More resources\n",
    "1. Brief Python indreoduction [here.](https://learnxinyminutes.com/docs/python/)\n",
    "2. Full Python tutorial [here.](https://docs.python.org/3/tutorial/)\n",
    "3. A Whirlwid Tour of Python [here.](https://jakevdp.github.io/WhirlwindTourOfPython/)\n",
    "3. Python Data Sciece Handbook [here.](https://jakevdp.github.io/PythonDataScienceHandbook/index.html)"
   ]
  },
  {
   "attachments": {},
   "cell_type": "markdown",
   "id": "2afbb0fa",
   "metadata": {},
   "source": [
    "### Torch!"
   ]
  },
  {
   "cell_type": "code",
   "execution_count": null,
   "id": "f76e8b10",
   "metadata": {},
   "outputs": [],
   "source": [
    "# Generate a tensor of size 2x3x4\n",
    "t = torch.Tensor(2, 3, 4)\n",
    "type(t)"
   ]
  },
  {
   "cell_type": "code",
   "execution_count": null,
   "id": "d5cc2e80",
   "metadata": {},
   "outputs": [],
   "source": [
    "# Get the size of tensor\n",
    "t.size()"
   ]
  },
  {
   "cell_type": "code",
   "execution_count": null,
   "id": "a0ec151c",
   "metadata": {},
   "outputs": [],
   "source": [
    "# t.size() is a classic type =>\n",
    "print('t size:', '\\u00D7'.join(map(str, t.size())))"
   ]
  },
  {
   "cell_type": "code",
   "execution_count": null,
   "id": "75de1eb9",
   "metadata": {},
   "outputs": [],
   "source": [
    "# print dimentional save and sub-dimensions\n",
    "print(f\"point in a {t.numel()} dimentional spacee\")\n",
    "print(f\"organised in {t.dim()} sub-dimentions\")"
   ]
  },
  {
   "cell_type": "code",
   "execution_count": null,
   "id": "b81d821a",
   "metadata": {},
   "outputs": [],
   "source": [
    "t"
   ]
  },
  {
   "cell_type": "code",
   "execution_count": null,
   "id": "3e989549",
   "metadata": {},
   "outputs": [],
   "source": [
    "# Mind the underscore!\n",
    "# Any operartion that mutates a tensor in-place is post-fixed with an _.\n",
    "# For example; x.copy_(y), x.t_(), x.random_(n) will change x. \n",
    "t.random_(10)"
   ]
  },
  {
   "cell_type": "code",
   "execution_count": null,
   "id": "e6bf60f8",
   "metadata": {},
   "outputs": [],
   "source": [
    "# This resizes the tensor permanently\n",
    "r = torch.Tensor(t)\n",
    "r.resize_(3,8)"
   ]
  },
  {
   "cell_type": "code",
   "execution_count": null,
   "id": "a8d1eb2c",
   "metadata": {},
   "outputs": [],
   "source": [
    "# As you can see zero_ would replace r with 0's which was originally filled with integers\n",
    "r.zero_()"
   ]
  },
  {
   "cell_type": "code",
   "execution_count": null,
   "id": "2728b3e4",
   "metadata": {},
   "outputs": [],
   "source": [
    "t"
   ]
  },
  {
   "cell_type": "code",
   "execution_count": null,
   "id": "65865bde",
   "metadata": {},
   "outputs": [],
   "source": [
    "# This *is* important, sigh...\n",
    "s = r.clone()"
   ]
  },
  {
   "cell_type": "code",
   "execution_count": null,
   "id": "4d778b03",
   "metadata": {},
   "outputs": [],
   "source": [
    "# In=place fill of 1's \n",
    "s.fill_(1)"
   ]
  },
  {
   "cell_type": "code",
   "execution_count": null,
   "id": "dea0a8ce",
   "metadata": {},
   "outputs": [],
   "source": [
    "# Because we cloned r, even though we did an-place operation, this doesn't affecct r\n",
    "r"
   ]
  },
  {
   "attachments": {},
   "cell_type": "markdown",
   "id": "fe02fd7d",
   "metadata": {},
   "source": [
    "### Vector (1D Tensors)"
   ]
  },
  {
   "cell_type": "code",
   "execution_count": null,
   "id": "23c03313",
   "metadata": {},
   "outputs": [],
   "source": [
    "# Creates a 1D tensor of intergers 1 to 4\n",
    "v = torch.Tensor([1,2,3,4])\n",
    "v"
   ]
  },
  {
   "cell_type": "code",
   "execution_count": null,
   "id": "e7778d7c",
   "metadata": {},
   "outputs": [],
   "source": [
    "# Print number of dimentiosn (1D) and size of tensor\n",
    "print(f\"dim: {v.dim()}, size:{v.size()[0]}\")"
   ]
  },
  {
   "cell_type": "code",
   "execution_count": null,
   "id": "54d71327",
   "metadata": {},
   "outputs": [],
   "source": [
    "w = torch.Tensor([1,0,2,0])"
   ]
  },
  {
   "cell_type": "code",
   "execution_count": null,
   "id": "72249f75",
   "metadata": {},
   "outputs": [],
   "source": [
    "# Element-wise multiplication\n",
    "v*w"
   ]
  },
  {
   "cell_type": "code",
   "execution_count": null,
   "id": "b85a6342",
   "metadata": {},
   "outputs": [],
   "source": [
    "# Scalar product : 1*1 + 2*0 + 3*2 + 4*0\n",
    "v @ w"
   ]
  },
  {
   "cell_type": "code",
   "execution_count": null,
   "id": "92c03735",
   "metadata": {},
   "outputs": [],
   "source": [
    "# In-place repleacement of random number from 0 to 10\n",
    "x = torch.Tensor(5).random_(10)\n",
    "x"
   ]
  },
  {
   "cell_type": "code",
   "execution_count": null,
   "id": "aeee2628",
   "metadata": {},
   "outputs": [],
   "source": [
    "print(f\"first: {x[0]}, last: {x[-1]}\")"
   ]
  },
  {
   "cell_type": "code",
   "execution_count": null,
   "id": "f8ee1f34",
   "metadata": {},
   "outputs": [],
   "source": [
    "# Extract sub-Tensor[from:to]\n",
    "x[1:2 + 1]"
   ]
  },
  {
   "cell_type": "code",
   "execution_count": null,
   "id": "5a7d595a",
   "metadata": {},
   "outputs": [],
   "source": [
    "v"
   ]
  },
  {
   "cell_type": "code",
   "execution_count": null,
   "id": "e6f3030a",
   "metadata": {},
   "outputs": [],
   "source": [
    "# Create a tensor with integers ranging from 1 to 5, excluding 5\n",
    "v = torch.arange(1, 4 + 1)\n",
    "v"
   ]
  },
  {
   "cell_type": "code",
   "execution_count": null,
   "id": "bdc59cb9",
   "metadata": {},
   "outputs": [],
   "source": [
    "# Square all elements in the tensor\n",
    "print(v.pow(2),v)"
   ]
  },
  {
   "attachments": {},
   "cell_type": "markdown",
   "id": "a0ad2b26",
   "metadata": {},
   "source": [
    "### Matrices (2D Tensors)"
   ]
  },
  {
   "cell_type": "code",
   "execution_count": null,
   "id": "ba2ca847",
   "metadata": {},
   "outputs": [],
   "source": [
    "# Create a 2x4 tensor\n",
    "m = torch.Tensor([[2,5,3,7], \n",
    "                  [4,2,1,9]])\n",
    "m"
   ]
  },
  {
   "cell_type": "code",
   "execution_count": null,
   "id": "a221a08d",
   "metadata": {},
   "outputs": [],
   "source": [
    "m.dim()"
   ]
  },
  {
   "cell_type": "code",
   "execution_count": null,
   "id": "72ea224f",
   "metadata": {},
   "outputs": [],
   "source": [
    "print(m.size(0), m.size(1), m.size(), sep=\"--\")"
   ]
  },
  {
   "cell_type": "code",
   "execution_count": null,
   "id": "6f25897a",
   "metadata": {},
   "outputs": [],
   "source": [
    "# Return the toral number of elements, hence num-el (number of elements)\n",
    "m.numel()"
   ]
  },
  {
   "cell_type": "code",
   "execution_count": null,
   "id": "cb429c62",
   "metadata": {},
   "outputs": [],
   "source": [
    "# Indexing row 0, column 2(0-indexed)\n",
    "m[0][2]"
   ]
  },
  {
   "cell_type": "code",
   "execution_count": null,
   "id": "9c1e974d",
   "metadata": {},
   "outputs": [],
   "source": [
    "# Indexing row 0, column 2(0-indexed)\n",
    "m[0, 2]"
   ]
  },
  {
   "cell_type": "code",
   "execution_count": null,
   "id": "13495d5d",
   "metadata": {},
   "outputs": [],
   "source": [
    "# Indexing row 1, all rows (return size 2)\n",
    "m[:,1]"
   ]
  },
  {
   "cell_type": "code",
   "execution_count": null,
   "id": "18e37de6",
   "metadata": {},
   "outputs": [],
   "source": [
    "# Indexes row 0, all colnms (returns size 2x1)\n",
    "m[:,[1]]"
   ]
  },
  {
   "cell_type": "code",
   "execution_count": null,
   "id": "52b60831",
   "metadata": {},
   "outputs": [],
   "source": [
    "# Indexes row 0, all colnms (returns size 1x4)\n",
    "m[[0],:]\n",
    "m[[0],:].size()"
   ]
  },
  {
   "cell_type": "code",
   "execution_count": null,
   "id": "1983d976",
   "metadata": {},
   "outputs": [],
   "source": [
    "# Indexes row 0, all columns  (returns size 4)\n",
    "m[0,:]\n",
    "m[0,:].size()"
   ]
  },
  {
   "cell_type": "code",
   "execution_count": null,
   "id": "637e6afc",
   "metadata": {},
   "outputs": [],
   "source": [
    "# Create tensor of numbers from 1 to 5 (excluding 5)\n",
    "v = torch.arange(1., 4 + 1)\n",
    "v"
   ]
  },
  {
   "cell_type": "code",
   "execution_count": null,
   "id": "5b78300d",
   "metadata": {},
   "outputs": [],
   "source": [
    "m"
   ]
  },
  {
   "cell_type": "code",
   "execution_count": null,
   "id": "348e81b4",
   "metadata": {},
   "outputs": [],
   "source": [
    "# Scalar product\n",
    "m @ v"
   ]
  },
  {
   "cell_type": "code",
   "execution_count": null,
   "id": "3eda59c7",
   "metadata": {},
   "outputs": [],
   "source": [
    "# Caculated by 1*2+2*5+3*3+4*7\n",
    "m[[0],:] @ v"
   ]
  },
  {
   "cell_type": "code",
   "execution_count": null,
   "id": "5c56f85a",
   "metadata": {},
   "outputs": [],
   "source": [
    "# Caculated by 1*4+2*2+3*1+4*9\n",
    "m[[1],:] @ v"
   ]
  },
  {
   "cell_type": "code",
   "execution_count": null,
   "id": "395ce421",
   "metadata": {},
   "outputs": [],
   "source": [
    "# Add a random tensor of size 2x4 to m\n",
    "m + torch.rand(2,4)"
   ]
  },
  {
   "cell_type": "code",
   "execution_count": null,
   "id": "c0366ac9",
   "metadata": {},
   "outputs": [],
   "source": [
    "# Substract a random tensor of size 2x4 to m\n",
    "m - torch.rand(2,4)"
   ]
  },
  {
   "cell_type": "code",
   "execution_count": null,
   "id": "284b3305",
   "metadata": {},
   "outputs": [],
   "source": [
    "# Multiply a random tensor of size 2x4 to m\n",
    "m * torch.rand(2,4)"
   ]
  },
  {
   "cell_type": "code",
   "execution_count": null,
   "id": "18b37fc9",
   "metadata": {},
   "outputs": [],
   "source": [
    "# Divide m by a random tensor of size 2x4\n",
    "print(m)\n",
    "print(m/torch.rand(2,4))"
   ]
  },
  {
   "cell_type": "code",
   "execution_count": null,
   "id": "e486f0dc",
   "metadata": {},
   "outputs": [],
   "source": [
    "m.size()"
   ]
  },
  {
   "cell_type": "code",
   "execution_count": null,
   "id": "0803d653",
   "metadata": {},
   "outputs": [],
   "source": [
    "# Transpose tensor m, which is essentially 2x4 to 4x2\n",
    "m.t()"
   ]
  },
  {
   "cell_type": "code",
   "execution_count": null,
   "id": "1f8ed65d",
   "metadata": {},
   "outputs": [],
   "source": [
    "# Same as\n",
    "m.transpose(0,1)"
   ]
  },
  {
   "attachments": {},
   "cell_type": "markdown",
   "id": "de0d52f2",
   "metadata": {},
   "source": [
    "### Constructors"
   ]
  },
  {
   "cell_type": "code",
   "execution_count": null,
   "id": "ac909f15",
   "metadata": {},
   "outputs": [],
   "source": [
    "# Create tensor from 3 to 8, with each having a space of 1\n",
    "torch.arange(3., 8 + 1)"
   ]
  },
  {
   "cell_type": "code",
   "execution_count": null,
   "id": "0013dc17",
   "metadata": {},
   "outputs": [],
   "source": [
    "# Create tensor from 5.7 to -2.1 with each having a space of -3\n",
    "torch.arange(5.7, -2.1, -3)"
   ]
  },
  {
   "cell_type": "code",
   "execution_count": null,
   "id": "8c4d1803",
   "metadata": {},
   "outputs": [],
   "source": [
    "# returns a 1D tensor of steps equally spaced points between start=3, end=8 and steps=20\n",
    "torch.linspace(3,8,20).view(1,-1)"
   ]
  },
  {
   "cell_type": "code",
   "execution_count": null,
   "id": "cad85726",
   "metadata": {},
   "outputs": [],
   "source": [
    "# Create a tensor filled with 0's\n",
    "torch.zeros(3,2,5)"
   ]
  },
  {
   "cell_type": "code",
   "execution_count": null,
   "id": "b7ac7bcb",
   "metadata": {},
   "outputs": [],
   "source": [
    "# Create a tensor with the diagonal filled with 1\n",
    "torch.eye(3)"
   ]
  },
  {
   "cell_type": "code",
   "execution_count": null,
   "id": "f3ba3971",
   "metadata": {},
   "outputs": [],
   "source": [
    "import matplotlib.style\n",
    "import matplotlib as mpl\n",
    "from matplotlib import pyplot as plt\n",
    "\n",
    "mpl.style.use('classic')\n",
    "mpl.rcParams['image.cmap'] = 'jet'\n",
    "mpl.rcParams['figure.facecolor'] = '0.75'\n"
   ]
  },
  {
   "cell_type": "code",
   "execution_count": null,
   "id": "4db27f44",
   "metadata": {},
   "outputs": [],
   "source": [
    "# Numpy bridge!\n",
    "plt.hist(torch.randn(1000).numpy(), 100)"
   ]
  },
  {
   "cell_type": "code",
   "execution_count": null,
   "id": "68b8e1c7",
   "metadata": {},
   "outputs": [],
   "source": [
    "plt.hist(torch.randn(10**6).numpy(), 100);  # how much does this chart weight?\n",
    "# use rasterized=True for SVG/EPS/PDF!"
   ]
  },
  {
   "cell_type": "code",
   "execution_count": null,
   "id": "0707b649",
   "metadata": {},
   "outputs": [],
   "source": [
    "plt.hist(torch.rand(10**6).numpy(), 100);\n"
   ]
  },
  {
   "attachments": {},
   "cell_type": "markdown",
   "id": "f7d2a06d",
   "metadata": {},
   "source": [
    "### Casting"
   ]
  },
  {
   "cell_type": "code",
   "execution_count": null,
   "id": "c31c1fa7",
   "metadata": {},
   "outputs": [],
   "source": [
    "torch.*Tensor?"
   ]
  },
  {
   "cell_type": "code",
   "execution_count": null,
   "id": "3f02ece4",
   "metadata": {},
   "outputs": [],
   "source": [
    "m"
   ]
  },
  {
   "cell_type": "code",
   "execution_count": null,
   "id": "8f1391a4",
   "metadata": {},
   "outputs": [],
   "source": [
    "# This is basically a 64 bit float tensor\n",
    "m_double = m.double()\n",
    "m_double"
   ]
  },
  {
   "cell_type": "code",
   "execution_count": null,
   "id": "fd4121d0",
   "metadata": {},
   "outputs": [],
   "source": [
    "# This creates a tensor of type int8\n",
    "m_byte = m.byte()\n",
    "m_byte"
   ]
  },
  {
   "cell_type": "code",
   "execution_count": null,
   "id": "30377978",
   "metadata": {},
   "outputs": [],
   "source": [
    "# Move your tensor ro GPU device 0 if there is one (first GPU in the system)\n",
    "device = torch.device(\"cuda:0\" if torch.cuda.is_available() else \"cpu\")\n",
    "m.to(device)"
   ]
  },
  {
   "cell_type": "code",
   "execution_count": null,
   "id": "06fa8f9b",
   "metadata": {},
   "outputs": [],
   "source": [
    "# Converts tensor to numpy array\n",
    "m_np = m.numpy()\n",
    "m_np"
   ]
  },
  {
   "cell_type": "code",
   "execution_count": null,
   "id": "6cbfb781",
   "metadata": {},
   "outputs": [],
   "source": [
    "# in-place fill of column 0 and row 0 with value-1\n",
    "m_np[0,0] = -1\n",
    "m_np"
   ]
  },
  {
   "cell_type": "code",
   "execution_count": null,
   "id": "29477615",
   "metadata": {},
   "outputs": [],
   "source": [
    "m"
   ]
  },
  {
   "cell_type": "code",
   "execution_count": null,
   "id": "729c2439",
   "metadata": {},
   "outputs": [],
   "source": [
    "# Create a tensor of integers ranging from 0 to 4\n",
    "import numpy as np \n",
    "n_np = np.arange(5)\n",
    "n = torch.from_numpy(n_np)\n",
    "print(n_np, n)"
   ]
  },
  {
   "cell_type": "code",
   "execution_count": null,
   "id": "9c6d371e",
   "metadata": {},
   "outputs": [],
   "source": [
    "# In-place multiplication of all elements by 2 for tensor n\n",
    "# Because n in essential n_np, not a clone, this affects n_np \n",
    "n.mul_(2)\n",
    "n_np"
   ]
  },
  {
   "attachments": {},
   "cell_type": "markdown",
   "id": "2ead7645",
   "metadata": {},
   "source": [
    "# More fun"
   ]
  },
  {
   "cell_type": "code",
   "execution_count": null,
   "id": "f7d64b23",
   "metadata": {},
   "outputs": [],
   "source": [
    "# Creates two tensor of size 1x4\n",
    "a = torch.Tensor([[1,2,3,4]])\n",
    "b = torch.Tensor([[5,6,7,8]])\n",
    "print(a.size(), b)"
   ]
  },
  {
   "cell_type": "code",
   "execution_count": null,
   "id": "a1847162",
   "metadata": {},
   "outputs": [],
   "source": [
    "# Concatenate on axis 0, so you get 2x4\n",
    "torch.cat((a,b), 0)"
   ]
  },
  {
   "cell_type": "code",
   "execution_count": null,
   "id": "2de9dc63",
   "metadata": {},
   "outputs": [],
   "source": [
    "# Concatenate on axis 1, so you get 1x8\n",
    "torch.cat((a,b), 1)"
   ]
  },
  {
   "attachments": {},
   "cell_type": "markdown",
   "id": "6cdfcdff",
   "metadata": {},
   "source": [
    "### Much more\n",
    "\n",
    "There's definitely much more, but this was the basics about Tensors fun.\n",
    "\n",
    "Torch full API should be read at least once. Hence, go [here](https://pytorch.org/docs/stable/index.html). You'll find 100+ Tensor operations, including transposing, indexing, slicing, mathematical operations, linear algebra, random numbers, etc are described."
   ]
  }
 ],
 "metadata": {
  "kernelspec": {
   "display_name": "pDL",
   "language": "python",
   "name": "python3"
  },
  "language_info": {
   "codemirror_mode": {
    "name": "ipython",
    "version": 3
   },
   "file_extension": ".py",
   "mimetype": "text/x-python",
   "name": "python",
   "nbconvert_exporter": "python",
   "pygments_lexer": "ipython3",
   "version": "3.9.16"
  }
 },
 "nbformat": 4,
 "nbformat_minor": 5
}
