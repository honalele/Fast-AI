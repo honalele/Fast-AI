{
 "cells": [
  {
   "cell_type": "code",
   "execution_count": 1,
   "metadata": {},
   "outputs": [],
   "source": [
    "# Define two vectors (list): input my_X, my_y, weight my_w\n",
    "my_x = [0, 1, 1]\n",
    "my_w = [-10, 10, 5]"
   ]
  },
  {
   "cell_type": "code",
   "execution_count": 2,
   "id": "4f066564",
   "metadata": {},
   "outputs": [],
   "source": [
    "# Mulitiply two lists element wise\n",
    "def mul(a, b):\n",
    "    \"\"\"return a list c, same length as a, element c[i] = a[i] * b[i]\n",
    "\n",
    "    Args:\n",
    "        a (_type_): int\n",
    "        b (_type_): int\n",
    "    \"\"\"\n",
    "    c = \n",
    "    for i in range(len(a)):\n",
    "        c.append(a[i]*b[i])\n",
    "    return c"
   ]
  },
  {
   "cell_type": "code",
   "execution_count": 6,
   "id": "556dc557",
   "metadata": {},
   "outputs": [
    {
     "data": {
      "text/plain": [
       "[0, 10, 5]"
      ]
     },
     "execution_count": 6,
     "metadata": {},
     "output_type": "execute_result"
    }
   ],
   "source": [
    "mul(my_x, my_w)"
   ]
  },
  {
   "cell_type": "code",
   "execution_count": 7,
   "id": "039d1572",
   "metadata": {},
   "outputs": [],
   "source": [
    "# Define a scalr: bias b\n",
    "my_b = -5"
   ]
  },
  {
   "cell_type": "code",
   "execution_count": null,
   "id": "d8e45853",
   "metadata": {},
   "outputs": [],
   "source": [
    "# Neuron linear(internal) potential\n",
    "def linear_neuron(x, weights, bias):\n",
    "    \"\"\"_summary_\n",
    "\n",
    "    Args:\n",
    "        x (_type_): _description_\n",
    "        weights (_type_): _description_\n",
    "        bias (_type_): _description_\n",
    "    \"\"\""
   ]
  }
 ],
 "metadata": {
  "kernelspec": {
   "display_name": "pDL",
   "language": "python",
   "name": "python3"
  },
  "language_info": {
   "codemirror_mode": {
    "name": "ipython",
    "version": 3
   },
   "file_extension": ".py",
   "mimetype": "text/x-python",
   "name": "python",
   "nbconvert_exporter": "python",
   "pygments_lexer": "ipython3",
   "version": "3.9.16"
  }
 },
 "nbformat": 4,
 "nbformat_minor": 5
}
