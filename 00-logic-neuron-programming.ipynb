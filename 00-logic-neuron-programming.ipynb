{
 "cells": [
  {
   "cell_type": "code",
   "execution_count": 1,
   "metadata": {},
   "outputs": [],
   "source": [
    "# Define two vectors (list): input my_X, my_y, weight my_w\n",
    "my_x = [0, 1, 1]\n",
    "my_w = [-10, 10, 5]"
   ]
  },
  {
   "cell_type": "code",
   "execution_count": 2,
   "id": "4f066564",
   "metadata": {},
   "outputs": [],
   "source": [
    "# Mulitiply two lists element wise\n",
    "def mul(a, b):\n",
    "    \"\"\"return a list c, same length as a, element c[i] = a[i] * b[i]\n",
    "\n",
    "    Args:\n",
    "        a (_type_): int\n",
    "        b (_type_): int\n",
    "    \"\"\"\n",
    "    c = \n",
    "    for i in range(len(a)):\n",
    "        c.append(a[i]*b[i])\n",
    "    return c"
   ]
  },
  {
   "cell_type": "code",
   "execution_count": 6,
   "id": "556dc557",
   "metadata": {},
   "outputs": [
    {
     "data": {
      "text/plain": [
       "[0, 10, 5]"
      ]
     },
     "execution_count": 6,
     "metadata": {},
     "output_type": "execute_result"
    }
   ],
   "source": [
    "mul(my_x, my_w)"
   ]
  },
  {
   "cell_type": "code",
   "execution_count": 7,
   "id": "039d1572",
   "metadata": {},
   "outputs": [],
   "source": [
    "# Define a scalr: bias b\n",
    "my_b = -5"
   ]
  },
  {
   "cell_type": "code",
   "execution_count": 12,
   "id": "d8e45853",
   "metadata": {},
   "outputs": [],
   "source": [
    "# Neuron linear(internal) potential\n",
    "def linear_neuron(x, weights, bias):\n",
    "    \"\"\"return a scalr value representing a scalar neuron\n",
    "    sum(list) computes the sum of the elements in a list\n",
    "\n",
    "    Args:\n",
    "        x (_type_): list of inputs\n",
    "        weights (_type_): list of weight parameters\n",
    "        bias (_type_): scalar\n",
    "    \"\"\"\n",
    "    c =  mul(x, weights)\n",
    "    d =  [i+bias for i in c]\n",
    "    #print(d)\n",
    "\n",
    "    return sum(d)\n",
    "    "
   ]
  },
  {
   "cell_type": "code",
   "execution_count": 13,
   "id": "afb6ed18",
   "metadata": {},
   "outputs": [
    {
     "name": "stdout",
     "output_type": "stream",
     "text": [
      "[-5, 5, 0]\n",
      "0\n"
     ]
    }
   ],
   "source": [
    "# Test linear_neuron() function\n",
    "linear_result = linear_neuron(my_x, my_w, my_b)\n",
    "#print(linear_result)"
   ]
  },
  {
   "cell_type": "code",
   "execution_count": 14,
   "id": "9b62fd26",
   "metadata": {},
   "outputs": [],
   "source": [
    "# Import exp() function (safe on lists)\n",
    "from numpy import exp"
   ]
  },
  {
   "cell_type": "code",
   "execution_count": 15,
   "id": "b3eadebd",
   "metadata": {},
   "outputs": [],
   "source": [
    "def sigmoid(z):\n",
    "    \"\"\"return the value of sigmoid function\n",
    "\n",
    "    Args:\n",
    "        z (_type_): scaler\n",
    "    \"\"\"\n",
    "    return (1/(1+exp(-z)))"
   ]
  },
  {
   "cell_type": "code",
   "execution_count": 16,
   "id": "104e5c2d",
   "metadata": {},
   "outputs": [
    {
     "name": "stdout",
     "output_type": "stream",
     "text": [
      "0.0066928509242848554\n",
      "0.5\n",
      "0.9933071490757153\n"
     ]
    }
   ],
   "source": [
    "# Try out σ() for different z values\n",
    "for z in (-5, 0, 5): print(sigmoid(z))"
   ]
  },
  {
   "cell_type": "code",
   "execution_count": 17,
   "id": "6f68d9ba",
   "metadata": {},
   "outputs": [],
   "source": [
    "# Import some plotting stuff to graph sigmoid()\n",
    "from numpy import linspace\n",
    "from matplotlib.pyplot import plot, axhline, axvline, grid, style\n",
    "style.use('dark_background')"
   ]
  },
  {
   "cell_type": "code",
   "execution_count": 18,
   "id": "c1edc0ef",
   "metadata": {},
   "outputs": [
    {
     "data": {
      "image/png": "[encoded data removed]",
      "text/plain": [
       "<Figure size 640x480 with 1 Axes>"
      ]
     },
     "metadata": {},
     "output_type": "display_data"
    }
   ],
   "source": [
    "# Get a pair of axis and grid lines centred in (0, 0)\n",
    "axhline(c='.2'); axvline(color='.2')\n",
    "grid(c='.1', ls='--')\n",
    "\n",
    "# Plot across a span of numbers\n",
    "z = linspace(-7.5, 7.5)\n",
    "plot(z, sigmoid(z));"
   ]
  },
  {
   "cell_type": "code",
   "execution_count": null,
   "id": "d93ff8eb",
   "metadata": {},
   "outputs": [],
   "source": []
  }
 ],
 "metadata": {
  "kernelspec": {
   "display_name": "pDL",
   "language": "python",
   "name": "python3"
  },
  "language_info": {
   "codemirror_mode": {
    "name": "ipython",
    "version": 3
   },
   "file_extension": ".py",
   "mimetype": "text/x-python",
   "name": "python",
   "nbconvert_exporter": "python",
   "pygments_lexer": "ipython3",
   "version": "3.9.16"
  }
 },
 "nbformat": 4,
 "nbformat_minor": 5
}
